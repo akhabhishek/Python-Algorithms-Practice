{
  "nbformat": 4,
  "nbformat_minor": 0,
  "metadata": {
    "colab": {
      "name": "Tree_Traversal.ipynb",
      "provenance": [],
      "authorship_tag": "ABX9TyOdFQRUAXu+1Uz9vSXrir/0",
      "include_colab_link": true
    },
    "kernelspec": {
      "name": "python3",
      "display_name": "Python 3"
    }
  },
  "cells": [
    {
      "cell_type": "markdown",
      "metadata": {
        "id": "view-in-github",
        "colab_type": "text"
      },
      "source": [
        "<a href=\"https://colab.research.google.com/github/akhabhishek/Python-Algorithms-Practice/blob/main/Tree_Traversal.ipynb\" target=\"_parent\"><img src=\"https://colab.research.google.com/assets/colab-badge.svg\" alt=\"Open In Colab\"/></a>"
      ]
    },
    {
      "cell_type": "markdown",
      "metadata": {
        "id": "TmMvbvkIWM7i"
      },
      "source": [
        "## Breadth First Search (BFS)\r\n",
        "\r\n",
        "In this method, we visit all nodes, horizontally, at each level before moving to next level.\r\n",
        "\r\n",
        "                        10\r\n",
        "                    6        15\r\n",
        "                  3   8         20\r\n",
        "\r\n",
        "For above tree, BFS output is [10, 6, 15, 3, 8, 20]\r\n",
        "\r\n",
        "\r\n",
        "**Algorithm:**\r\n",
        "- Create a queue (we'll use list here) and a list to store values of nodes visited\r\n",
        "- Place root node in queue\r\n",
        "- Loop as long as there are items in queue\r\n",
        "    - Dequeue node from queue and push value of node to the list\r\n",
        "    - If there is a left child on the dequeued node - add it to queue\r\n",
        "    - If there is a right child on the dequeued node - add it to queue\r\n",
        "- Return the list that has values of all nodes\r\n"
      ]
    },
    {
      "cell_type": "code",
      "metadata": {
        "id": "b3NcvdD7Vcg6"
      },
      "source": [
        "class Node:\r\n",
        "    def __init__(self, value):\r\n",
        "        self.value = value\r\n",
        "        self.left = None\r\n",
        "        self.right = None"
      ],
      "execution_count": 5,
      "outputs": []
    },
    {
      "cell_type": "code",
      "metadata": {
        "id": "ve5qwE4EADnL"
      },
      "source": [
        "class BinarySearchTree:\r\n",
        "    def __init__(self):\r\n",
        "        self.root = None\r\n",
        "        print(\"An empty root node was created\")\r\n",
        "\r\n",
        "    def insert(self, value):\r\n",
        "\r\n",
        "        # Create a new node\r\n",
        "        new_node = Node(value)\r\n",
        "\r\n",
        "        # Check if root exists; if not,  new node becomes the root\r\n",
        "        if self.root == None:\r\n",
        "            self.root = new_node\r\n",
        "            return\r\n",
        "        else:\r\n",
        "            current = self.root\r\n",
        "            while(True):\r\n",
        "\r\n",
        "                if value == current.value:\r\n",
        "                    return \"Value already exists!\"\r\n",
        "\r\n",
        "                if value < current.value:\r\n",
        "                    if current.left == None:\r\n",
        "                        current.left = new_node\r\n",
        "                        return\r\n",
        "                    else:\r\n",
        "                        current = current.left\r\n",
        "                elif value > current.value:\r\n",
        "                    if current.right == None:\r\n",
        "                        current.right = new_node\r\n",
        "                        return\r\n",
        "                    else:\r\n",
        "                        current = current.right\r\n",
        "\r\n",
        "    def find(self, value):\r\n",
        "\r\n",
        "        # Check if there's a root; if not, no tree to search!\r\n",
        "        if self.root == None:\r\n",
        "            return \"There is no tree!\"\r\n",
        "        \r\n",
        "        current = self.root\r\n",
        "\r\n",
        "        # Loop condition checks if a node actually exists\r\n",
        "        while(current):\r\n",
        "            # Check if search value is equal to root value; if yes, return; else, continue\r\n",
        "            if value == current.value:\r\n",
        "                return \"Found!\"\r\n",
        "            \r\n",
        "            # Check if value is less than or greater than current value\r\n",
        "           \r\n",
        "            # If less, go left\r\n",
        "            if value < current.value:\r\n",
        "                # Move to left node and repeat steps\r\n",
        "                # If there's no node, loop condition will be false in next iteration\r\n",
        "                current = current.left\r\n",
        "            \r\n",
        "            # If greater, go right\r\n",
        "            elif value > current.value:\r\n",
        "                # Move to right node and repeat steps\r\n",
        "                # If there's no node, loop condition will be false in next iteration\r\n",
        "                current = current.right\r\n",
        "        \r\n",
        "        # If loop exits, value was never found\r\n",
        "        return \"Not Found\"\r\n",
        "\r\n",
        "    def BFS(self):\r\n",
        "        data = []\r\n",
        "        queue = []\r\n",
        "        node = None\r\n",
        "\r\n",
        "        queue.append(self.root)\r\n",
        "\r\n",
        "        while queue:\r\n",
        "            node = queue.pop(0)\r\n",
        "            data.append(node.value)\r\n",
        "\r\n",
        "            if node.left:\r\n",
        "                queue.append(node.left)\r\n",
        "\r\n",
        "            if node.right:\r\n",
        "                queue.append(node.right)\r\n",
        "        \r\n",
        "        return data\r\n",
        "    \r\n",
        "    def DFS_preorder(self):\r\n",
        "        \r\n",
        "        def traverse(self, node):\r\n",
        "            data.append(node.value)\r\n",
        "            if node.left: traverse(self, node.left)\r\n",
        "            if node.right: traverse(self, node.right)\r\n",
        "        \r\n",
        "        data = []\r\n",
        "        current = self.root\r\n",
        "\r\n",
        "        traverse(self, current)\r\n",
        "\r\n",
        "        return data\r\n",
        "    \r\n",
        "    def DFS_postorder(self):\r\n",
        "        \r\n",
        "        def traverse(self, node):\r\n",
        "            if node.left: traverse(self, node.left)\r\n",
        "            if node.right: traverse(self, node.right)\r\n",
        "            data.append(node.value)\r\n",
        "        \r\n",
        "        data = []\r\n",
        "        current = self.root\r\n",
        "\r\n",
        "        traverse(self, current)\r\n",
        "\r\n",
        "        return data\r\n",
        "        "
      ],
      "execution_count": 31,
      "outputs": []
    },
    {
      "cell_type": "code",
      "metadata": {
        "colab": {
          "base_uri": "https://localhost:8080/"
        },
        "id": "uyPFLiC0BFww",
        "outputId": "53573ad8-f619-41f7-90d9-0c45b2991791"
      },
      "source": [
        "bst = BinarySearchTree()"
      ],
      "execution_count": 32,
      "outputs": [
        {
          "output_type": "stream",
          "text": [
            "An empty root node was created\n"
          ],
          "name": "stdout"
        }
      ]
    },
    {
      "cell_type": "code",
      "metadata": {
        "id": "BSnOTFE4DaPo"
      },
      "source": [
        "bst.insert(10)\r\n",
        "bst.insert(6)\r\n",
        "bst.insert(15)\r\n",
        "bst.insert(3)\r\n",
        "bst.insert(8)\r\n",
        "bst.insert(20)"
      ],
      "execution_count": 33,
      "outputs": []
    },
    {
      "cell_type": "code",
      "metadata": {
        "colab": {
          "base_uri": "https://localhost:8080/"
        },
        "id": "VcpSlSI9Dbh6",
        "outputId": "02f923fd-4ee1-4a34-e283-e2364efd2b34"
      },
      "source": [
        "bst.BFS()"
      ],
      "execution_count": 34,
      "outputs": [
        {
          "output_type": "execute_result",
          "data": {
            "text/plain": [
              "[10, 6, 15, 3, 8, 20]"
            ]
          },
          "metadata": {
            "tags": []
          },
          "execution_count": 34
        }
      ]
    },
    {
      "cell_type": "code",
      "metadata": {
        "colab": {
          "base_uri": "https://localhost:8080/"
        },
        "id": "jRhBpUyMDeX_",
        "outputId": "b5a0dc8d-0d78-40fd-9cb1-6c24457b6212"
      },
      "source": [
        "bst.DFS_preorder()"
      ],
      "execution_count": 35,
      "outputs": [
        {
          "output_type": "execute_result",
          "data": {
            "text/plain": [
              "[10, 6, 3, 8, 15, 20]"
            ]
          },
          "metadata": {
            "tags": []
          },
          "execution_count": 35
        }
      ]
    },
    {
      "cell_type": "code",
      "metadata": {
        "colab": {
          "base_uri": "https://localhost:8080/"
        },
        "id": "f0pDipQ1eBB3",
        "outputId": "95c2e959-7940-4c80-fddb-8d1872f22cf4"
      },
      "source": [
        "bst.DFS_postorder()"
      ],
      "execution_count": 36,
      "outputs": [
        {
          "output_type": "execute_result",
          "data": {
            "text/plain": [
              "[3, 8, 6, 20, 15, 10]"
            ]
          },
          "metadata": {
            "tags": []
          },
          "execution_count": 36
        }
      ]
    },
    {
      "cell_type": "markdown",
      "metadata": {
        "id": "GOhktGNVD1mb"
      },
      "source": [
        "## Depth First Search - PreOrder (DFS)\r\n",
        "**Traverse (recursively): Root, left, right**\r\n",
        "\r\n",
        "                        10\r\n",
        "                    6        15\r\n",
        "                  3   8         20\r\n",
        "\r\n",
        "For above tree, DFS_preorder output is [10, 6, 3, 8, 15, 20]\r\n",
        "\r\n",
        "\r\n",
        "**Algorithm:**\r\n",
        "- Create a list to store values of the nodes visited\r\n",
        "- Store the root in a variable called current\r\n",
        "- Write a helper function (traverse) which accepts a node and does the below:\r\n",
        "    - Push value of the node to the list\r\n",
        "    - If there is a left child on the node - call the helper function (recursion) with the left node as argument\r\n",
        "    - If there is a right child on the node - call the helper function (recursion) with the right node as argument\r\n",
        "- Call the helper function with 'current' variable\r\n",
        "- Return the list that has values of all nodes"
      ]
    },
    {
      "cell_type": "markdown",
      "metadata": {
        "id": "DFlI26xwdAd2"
      },
      "source": [
        "## Depth First Search - PostOrder (DFS)\r\n",
        "**Traverse (recursively): left, right, root**  \r\n",
        "For every time we move to a new node, a new function call is made. So, in below example, first we check if there's a left to 10, then go to 6 and a new function call is made, so we go to 6's left (3) and another function call now.\r\n",
        "Next, we check if 3 has left, right (it doesn't), so we visit the root now which is 3 and add that value to list.\r\n",
        "Next, we go to function call of 6; it is done with checking left, so it will check for right and move to 8 and make another function call. Check left, right and add root 8 to list. Now that left and right are done for root 6, we add 6 to the list.\r\n",
        "\r\n",
        "                        10\r\n",
        "                    6        15\r\n",
        "                  3   8         20\r\n",
        "\r\n",
        "For above tree, DFS_postorder output is [3, 8, 6, 20, 15, 10]\r\n",
        "\r\n",
        "\r\n",
        "**Algorithm:**\r\n",
        "- Create a list to store values of the nodes visited\r\n",
        "- Store the root in a variable called current\r\n",
        "- Write a helper function (traverse) which accepts a node and does the below:\r\n",
        "    - If there is a left child on the node - call the helper function (recursion) with the left node as argument\r\n",
        "    - If there is a right child on the node - call the helper function (recursion) with the right node as argument\r\n",
        "    - Push value of the node to the list\r\n",
        "- Call the helper function with 'current' variable\r\n",
        "- Return the list that has values of all nodes"
      ]
    },
    {
      "cell_type": "code",
      "metadata": {
        "id": "zGiS0EugEPtF"
      },
      "source": [
        ""
      ],
      "execution_count": null,
      "outputs": []
    }
  ]
}