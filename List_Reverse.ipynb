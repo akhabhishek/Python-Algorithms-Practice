{
  "nbformat": 4,
  "nbformat_minor": 0,
  "metadata": {
    "colab": {
      "name": "List_Reverse.ipynb",
      "provenance": [],
      "collapsed_sections": [],
      "authorship_tag": "ABX9TyMBFJ+SUsOYTH088upqVrdZ",
      "include_colab_link": true
    },
    "kernelspec": {
      "name": "python3",
      "display_name": "Python 3"
    }
  },
  "cells": [
    {
      "cell_type": "markdown",
      "metadata": {
        "id": "view-in-github",
        "colab_type": "text"
      },
      "source": [
        "<a href=\"https://colab.research.google.com/github/akhabhishek/Python-Algorithms-Practice/blob/main/List_Reverse.ipynb\" target=\"_parent\"><img src=\"https://colab.research.google.com/assets/colab-badge.svg\" alt=\"Open In Colab\"/></a>"
      ]
    },
    {
      "cell_type": "code",
      "metadata": {
        "id": "8a6WXUzlgCg8"
      },
      "source": [
        "def list_reverse(arr):\r\n",
        "    \"\"\"\r\n",
        "    We swap the first and last element in each iteration.\r\n",
        "    With each iteration, we move starting index (i) one step right and last index (n) one step left.\r\n",
        "    We stop when i and n meet or cross. List will be reversed in n/2 iterations.\r\n",
        "    \"\"\"\r\n",
        "    n = len(arr)\r\n",
        "    i = 0\r\n",
        "\r\n",
        "    while i < n:\r\n",
        "\r\n",
        "        temp = arr[i]\r\n",
        "        arr[i] = arr[n-1]\r\n",
        "        arr[n-1] = temp\r\n",
        "\r\n",
        "        i += 1\r\n",
        "        n -= 1\r\n",
        "\r\n",
        "    return arr"
      ],
      "execution_count": 1,
      "outputs": []
    },
    {
      "cell_type": "code",
      "metadata": {
        "colab": {
          "base_uri": "https://localhost:8080/"
        },
        "id": "Gn_5xOQzghOB",
        "outputId": "b19e8388-2bee-48bc-c335-ae2263189c49"
      },
      "source": [
        "list_reverse([1, 2, 3, 4, 5, 6, 7, 8, 9, 10, 11, 12, 13, 14, 15, 16, 17, 18, 19])"
      ],
      "execution_count": 3,
      "outputs": [
        {
          "output_type": "execute_result",
          "data": {
            "text/plain": [
              "[19, 18, 17, 16, 15, 14, 13, 12, 11, 10, 9, 8, 7, 6, 5, 4, 3, 2, 1]"
            ]
          },
          "metadata": {
            "tags": []
          },
          "execution_count": 3
        }
      ]
    },
    {
      "cell_type": "code",
      "metadata": {
        "colab": {
          "base_uri": "https://localhost:8080/"
        },
        "id": "jbDaA2_cgkGG",
        "outputId": "0a395b8b-b465-4125-f4a4-291ca399731f"
      },
      "source": [
        ""
      ],
      "execution_count": 12,
      "outputs": [
        {
          "output_type": "stream",
          "text": [
            "5\n"
          ],
          "name": "stdout"
        }
      ]
    },
    {
      "cell_type": "code",
      "metadata": {
        "id": "QssdXmS2glA2"
      },
      "source": [
        ""
      ],
      "execution_count": null,
      "outputs": []
    }
  ]
}