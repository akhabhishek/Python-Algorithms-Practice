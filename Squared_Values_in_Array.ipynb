{
  "nbformat": 4,
  "nbformat_minor": 0,
  "metadata": {
    "colab": {
      "name": "Squared_Values_in_Array.ipynb",
      "provenance": [],
      "collapsed_sections": [],
      "authorship_tag": "ABX9TyOUR0mWYO1To9zner7RXa3r",
      "include_colab_link": true
    },
    "kernelspec": {
      "name": "python3",
      "display_name": "Python 3"
    }
  },
  "cells": [
    {
      "cell_type": "markdown",
      "metadata": {
        "id": "view-in-github",
        "colab_type": "text"
      },
      "source": [
        "<a href=\"https://colab.research.google.com/github/akhabhishek/Python-Algorithms-Practice/blob/main/Squared_Values_in_Array.ipynb\" target=\"_parent\"><img src=\"https://colab.research.google.com/assets/colab-badge.svg\" alt=\"Open In Colab\"/></a>"
      ]
    },
    {
      "cell_type": "code",
      "metadata": {
        "id": "uElgVaJEDdWl"
      },
      "source": [
        "def same(arr1, arr2):\r\n",
        "    \"\"\"\r\n",
        "    This function returns true if arr2 contains squared values for each number in arr1.\r\n",
        "    The squared values in arr2 cannot be counted more than once; that is, if there are two\r\n",
        "    3's in arr1, there must be two 9's in arr2.\r\n",
        "\r\n",
        "    same([1,2,3],[1,4,4]) -> False\r\n",
        "    same([1,2,3],[1,4,9]) -> True\r\n",
        "    same([1,2,3,4,5],[1,4,9,16])  -> Fasle\r\n",
        "    same([1,2,3,3],[1,4,9,9]) -> True\r\n",
        "\r\n",
        "    \"\"\"\r\n",
        "\r\n",
        "    if len(arr1) != len(arr2):\r\n",
        "        return False\r\n",
        "\r\n",
        "    # Init a dictionary\r\n",
        "    required = {}\r\n",
        "\r\n",
        "    # loop through first array and add squares of each value as key to a dictionary\r\n",
        "    for num in arr1:\r\n",
        "        if (num*num) in required:\r\n",
        "            required[(num*num)] += 1\r\n",
        "        else:\r\n",
        "            required[(num*num)] = 1\r\n",
        "\r\n",
        "    # loop through second array and if value is present in dict, subtract; else, return false\r\n",
        "    for num in arr2:\r\n",
        "        if num in required:\r\n",
        "            required[num] -= 1\r\n",
        "        else:\r\n",
        "            return False\r\n",
        "\r\n",
        "    # Check for non-zeros in dictionary\r\n",
        "    max_value = max(required.values())\r\n",
        "\r\n",
        "    if max_value != 0:\r\n",
        "        return False\r\n",
        "\r\n",
        "    return True\r\n"
      ],
      "execution_count": 1,
      "outputs": []
    },
    {
      "cell_type": "code",
      "metadata": {
        "colab": {
          "base_uri": "https://localhost:8080/"
        },
        "id": "4tGezkjJDnga",
        "outputId": "bb8229d9-4b3b-4ef7-df99-9e3460250c53"
      },
      "source": [
        "print(same([1,2,3],[1,4,4]))\r\n",
        "print(same([1,2,3],[1,4,9]))\r\n",
        "print(same([1,2,3,4,5],[1,4,9,16]))\r\n",
        "print(same([1,2,3,3],[1,4,9,9]))"
      ],
      "execution_count": 2,
      "outputs": [
        {
          "output_type": "stream",
          "text": [
            "False\n",
            "True\n",
            "False\n",
            "True\n"
          ],
          "name": "stdout"
        }
      ]
    },
    {
      "cell_type": "code",
      "metadata": {
        "id": "BOyvXNkDDoq1"
      },
      "source": [
        ""
      ],
      "execution_count": null,
      "outputs": []
    }
  ]
}