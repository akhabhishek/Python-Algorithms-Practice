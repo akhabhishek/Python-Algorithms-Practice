{
  "nbformat": 4,
  "nbformat_minor": 0,
  "metadata": {
    "colab": {
      "name": "Anagrams.ipynb",
      "provenance": [],
      "collapsed_sections": [],
      "authorship_tag": "ABX9TyN+5zNdUvjPi8o7rWsE9Nl7",
      "include_colab_link": true
    },
    "kernelspec": {
      "name": "python3",
      "display_name": "Python 3"
    }
  },
  "cells": [
    {
      "cell_type": "markdown",
      "metadata": {
        "id": "view-in-github",
        "colab_type": "text"
      },
      "source": [
        "<a href=\"https://colab.research.google.com/github/akhabhishek/Python-Algorithms-Practice/blob/main/Anagrams.ipynb\" target=\"_parent\"><img src=\"https://colab.research.google.com/assets/colab-badge.svg\" alt=\"Open In Colab\"/></a>"
      ]
    },
    {
      "cell_type": "markdown",
      "metadata": {
        "id": "IHQksi4GVHHk"
      },
      "source": [
        "# Using sorted() function"
      ]
    },
    {
      "cell_type": "code",
      "metadata": {
        "id": "l208ZR7VVg1J"
      },
      "source": [
        "def anagram_1(s1,s2):\n",
        "    # Remove spaces and lower case the strings\n",
        "    s1 = s1.replace(\" \", \"\").lower()\n",
        "    s2 = s2.replace(\" \", \"\").lower()\n",
        "    \n",
        "    if sorted(s1) == sorted(s2):\n",
        "      return True\n",
        "    else:\n",
        "      return False"
      ],
      "execution_count": 18,
      "outputs": []
    },
    {
      "cell_type": "markdown",
      "metadata": {
        "id": "pKH1_Hu2Vur_"
      },
      "source": [
        "# Iterating through each letter in both strings"
      ]
    },
    {
      "cell_type": "code",
      "metadata": {
        "id": "eOI8Gs34yGQm"
      },
      "source": [
        "def anagram_2(s1,s2):\n",
        "    # Remove spaces and lower case the strings\n",
        "    s1 = s1.replace(\" \", \"\").lower()\n",
        "    s2 = s2.replace(\" \", \"\").lower()\n",
        "    \n",
        "    # If lengths of strings don't match, not anagram\n",
        "    if len(s1) != len(s2):\n",
        "      return False\n",
        "\n",
        "    # For each letter in s1, check if that letter is in s2; else, not anagram\n",
        "    for letter in s1:\n",
        "      if letter in s2:\n",
        "        continue\n",
        "      else:\n",
        "        return False\n",
        "\n",
        "    return True\n"
      ],
      "execution_count": 19,
      "outputs": []
    },
    {
      "cell_type": "markdown",
      "metadata": {
        "id": "eGSg4NHjdE4u"
      },
      "source": [
        "# Using dictionary"
      ]
    },
    {
      "cell_type": "code",
      "metadata": {
        "id": "RUCQI17jdEcA"
      },
      "source": [
        "def anagram_3(s1, s2):\n",
        "    # Remove spaces and lower case the strings\n",
        "    s1 = s1.replace(\" \", \"\").lower()\n",
        "    s2 = s2.replace(\" \", \"\").lower()\n",
        "\n",
        "    # If lengths of strings don't match, not anagram\n",
        "    if len(s1) != len(s2):\n",
        "        return False\n",
        "\n",
        "    # Make each letter in 1st string a key in dictionary.\n",
        "    # Subtract the count for each letter key from 2nd string.\n",
        "    # All dictionary values should be zero for anagram.\n",
        "    count = {}\n",
        "\n",
        "    for letter in s1:\n",
        "        if letter in count:\n",
        "            count[letter] += 1 # Increment by 1 if key already present; else, create key and assign 1\n",
        "        else:\n",
        "            count[letter] = 1\n",
        "    \n",
        "    for letter in s2:\n",
        "        if letter in count:\n",
        "            count[letter] -= 1 # Subtract by 1 if key already present; else, create key and assign 1\n",
        "        else:\n",
        "            count[letter] = 1\n",
        "\n",
        "    for k in count:\n",
        "        if count[k] != 0:\n",
        "            return False\n",
        "    \n",
        "    return True\n"
      ],
      "execution_count": 20,
      "outputs": []
    },
    {
      "cell_type": "code",
      "metadata": {
        "colab": {
          "base_uri": "https://localhost:8080/"
        },
        "id": "pGlfkxfI0Dam",
        "outputId": "0702a515-d37b-493e-be44-5bd9a618601c"
      },
      "source": [
        "print(anagram_1('dog','god'))\n",
        "print(anagram_2('dog','god'))\n",
        "print(anagram_3('dog','god'))"
      ],
      "execution_count": 22,
      "outputs": [
        {
          "output_type": "stream",
          "text": [
            "True\n",
            "True\n",
            "True\n"
          ],
          "name": "stdout"
        }
      ]
    },
    {
      "cell_type": "code",
      "metadata": {
        "colab": {
          "base_uri": "https://localhost:8080/"
        },
        "id": "5hOaJXG10GSN",
        "outputId": "839dd4d5-e140-43a6-a790-64d0fd10418f"
      },
      "source": [
        "print(anagram_1('clint eastwood', 'old west action'))\n",
        "print(anagram_2('clint eastwood', 'old west action'))\n",
        "print(anagram_3('clint eastwood', 'old west action'))"
      ],
      "execution_count": 23,
      "outputs": [
        {
          "output_type": "stream",
          "text": [
            "True\n",
            "True\n",
            "True\n"
          ],
          "name": "stdout"
        }
      ]
    },
    {
      "cell_type": "code",
      "metadata": {
        "colab": {
          "base_uri": "https://localhost:8080/"
        },
        "id": "5UjsGRZ-0HjW",
        "outputId": "1debaaf1-4df0-4589-b8a0-907e9d78d256"
      },
      "source": [
        "print(anagram_1('aabbcc','aabbc'))\n",
        "print(anagram_2('aabbcc','aabbc'))\n",
        "print(anagram_3('aabbcc','aabbc'))"
      ],
      "execution_count": 24,
      "outputs": [
        {
          "output_type": "stream",
          "text": [
            "False\n",
            "False\n",
            "False\n"
          ],
          "name": "stdout"
        }
      ]
    },
    {
      "cell_type": "code",
      "metadata": {
        "colab": {
          "base_uri": "https://localhost:8080/"
        },
        "id": "GZ-Ady2f6nY1",
        "outputId": "d39a2a22-5eb1-411f-c4e8-1a41d8e14d84"
      },
      "source": [
        "pip install nose"
      ],
      "execution_count": 16,
      "outputs": [
        {
          "output_type": "stream",
          "text": [
            "Requirement already satisfied: nose in /usr/local/lib/python3.6/dist-packages (1.3.7)\n"
          ],
          "name": "stdout"
        }
      ]
    },
    {
      "cell_type": "code",
      "metadata": {
        "colab": {
          "base_uri": "https://localhost:8080/"
        },
        "id": "I-evOVDP0OYZ",
        "outputId": "1e942734-38ed-49c3-f7c3-2b18585ef78b"
      },
      "source": [
        "\"\"\"\n",
        "TEST THE SOLUTION\n",
        "\"\"\"\n",
        "from nose.tools import assert_equal\n",
        "\n",
        "class AnagramTest(object):\n",
        "    \n",
        "    def test(self,sol):\n",
        "        assert_equal(sol('go go go','gggooo'),True)\n",
        "        assert_equal(sol('abc','cba'),True)\n",
        "        assert_equal(sol('hi man','hi     man'),True)\n",
        "        assert_equal(sol('aabbcc','aabbc'),False)\n",
        "        assert_equal(sol('123','1 2'),False)\n",
        "        print(\"ALL TEST CASES PASSED\")\n",
        "\n",
        "# Run Tests\n",
        "t = AnagramTest()\n",
        "t.test(anagram_1)\n",
        "t.test(anagram_2)\n",
        "t.test(anagram_3)"
      ],
      "execution_count": 26,
      "outputs": [
        {
          "output_type": "stream",
          "text": [
            "ALL TEST CASES PASSED\n",
            "ALL TEST CASES PASSED\n",
            "ALL TEST CASES PASSED\n"
          ],
          "name": "stdout"
        }
      ]
    },
    {
      "cell_type": "code",
      "metadata": {
        "id": "jaU2gxq0gMzs"
      },
      "source": [
        ""
      ],
      "execution_count": null,
      "outputs": []
    }
  ]
}
