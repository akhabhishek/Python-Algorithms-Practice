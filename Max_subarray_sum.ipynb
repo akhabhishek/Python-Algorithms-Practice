{
  "nbformat": 4,
  "nbformat_minor": 0,
  "metadata": {
    "colab": {
      "name": "Max_subarray_sum.ipynb",
      "provenance": [],
      "collapsed_sections": [],
      "authorship_tag": "ABX9TyP16Ol9SpIMkxbNj3430dPg",
      "include_colab_link": true
    },
    "kernelspec": {
      "name": "python3",
      "display_name": "Python 3"
    }
  },
  "cells": [
    {
      "cell_type": "markdown",
      "metadata": {
        "id": "view-in-github",
        "colab_type": "text"
      },
      "source": [
        "<a href=\"https://colab.research.google.com/github/akhabhishek/Python-Algorithms-Practice/blob/main/Max_subarray_sum.ipynb\" target=\"_parent\"><img src=\"https://colab.research.google.com/assets/colab-badge.svg\" alt=\"Open In Colab\"/></a>"
      ]
    },
    {
      "cell_type": "code",
      "metadata": {
        "id": "Mk_C753MXzcb"
      },
      "source": [
        "def max_subarray_sum(arr, n):\r\n",
        "    \"\"\"\r\n",
        "    This function finds the maximum sum of a subarray of size n within arr.\r\n",
        "    We use a sliding window to calculate sum of subarray.\r\n",
        "\r\n",
        "    eg: In arr = [1,5,2,3,7,8,3,9,0], the max sum of subarray of size 3 is 20 (8+3+9)\r\n",
        "    \"\"\"\r\n",
        "    \r\n",
        "    if len(arr) == 0 or len(arr) < n:\r\n",
        "        return \"Not enough elements in the array!\"\r\n",
        "    \r\n",
        "    max_sum = 0\r\n",
        "    sum = 0\r\n",
        "\r\n",
        "    # Use this loop to initially calculate sum of first n numbers\r\n",
        "    for k in range(n):\r\n",
        "        sum += arr[k]\r\n",
        "\r\n",
        "    # Create a sliding window of size n using two pointers i and j\r\n",
        "    # We add the value at j to the sum and the subtract the value at i from the max_sum,\r\n",
        "    # then we move i and j both up by 1\r\n",
        "    # This creates a sliding window to calculate sum of the subarray\r\n",
        "    # If sum of any window is greater than max_sum, max_sum = sum\r\n",
        "\r\n",
        "    i = 0\r\n",
        "    j = n\r\n",
        "\r\n",
        "    while j < len(arr):\r\n",
        "        sum += arr[j]\r\n",
        "        sum -= arr[i]\r\n",
        "\r\n",
        "        i += 1\r\n",
        "        j += 1\r\n",
        "\r\n",
        "        max_sum = max(sum, max_sum)\r\n",
        "\r\n",
        "    return max_sum\r\n",
        "\r\n"
      ],
      "execution_count": 6,
      "outputs": []
    },
    {
      "cell_type": "code",
      "metadata": {
        "colab": {
          "base_uri": "https://localhost:8080/"
        },
        "id": "INyk4rHSX_-k",
        "outputId": "965ef291-00bb-48b4-d5b9-ff5161e03c17"
      },
      "source": [
        "print(max_subarray_sum([1,5,2,3,7,8,3,9,0], 3))\r\n",
        "print(max_subarray_sum([1,5,2,3,1,1,3], 5))\r\n",
        "print(max_subarray_sum([1,5,2,3], 5))\r\n",
        "print(max_subarray_sum([], 5))\r\n",
        "print(max_subarray_sum([1,5,2], 0))"
      ],
      "execution_count": 7,
      "outputs": [
        {
          "output_type": "stream",
          "text": [
            "20\n",
            "12\n",
            "Not enough elements in the array!\n",
            "Not enough elements in the array!\n",
            "0\n"
          ],
          "name": "stdout"
        }
      ]
    },
    {
      "cell_type": "code",
      "metadata": {
        "id": "PJ4GqVjQYA_i"
      },
      "source": [
        ""
      ],
      "execution_count": null,
      "outputs": []
    }
  ]
}