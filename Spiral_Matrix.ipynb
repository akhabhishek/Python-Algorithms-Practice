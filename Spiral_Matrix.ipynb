{
  "nbformat": 4,
  "nbformat_minor": 0,
  "metadata": {
    "colab": {
      "name": "Spiral_Matrix.ipynb",
      "provenance": [],
      "collapsed_sections": [],
      "authorship_tag": "ABX9TyPVHkZpJ4evFleOMGOjsnjV",
      "include_colab_link": true
    },
    "kernelspec": {
      "name": "python3",
      "display_name": "Python 3"
    }
  },
  "cells": [
    {
      "cell_type": "markdown",
      "metadata": {
        "id": "view-in-github",
        "colab_type": "text"
      },
      "source": [
        "<a href=\"https://colab.research.google.com/github/akhabhishek/Python-Algorithms-Practice/blob/main/Spiral_Matrix.ipynb\" target=\"_parent\"><img src=\"https://colab.research.google.com/assets/colab-badge.svg\" alt=\"Open In Colab\"/></a>"
      ]
    },
    {
      "cell_type": "markdown",
      "metadata": {
        "id": "6q5E2LXVVMV4"
      },
      "source": [
        "# Algorithm to print a matrix in spiral form\n",
        "\n",
        "1. Pop top row of matrix\n",
        "2. Transpose and flip remaining matrix upside-down (same as rotate 90 degrees counter-clockwise)\n",
        "3. Go to 1\n",
        "\n",
        "https://stackoverflow.com/questions/726756/print-two-dimensional-array-in-spiral-order"
      ]
    },
    {
      "cell_type": "code",
      "metadata": {
        "id": "bi8d-ZtOVTbb"
      },
      "source": [
        "import numpy as np\n",
        "import itertools"
      ],
      "execution_count": 8,
      "outputs": []
    },
    {
      "cell_type": "code",
      "metadata": {
        "id": "6nwP0V3TVnSJ"
      },
      "source": [
        "arr = [[1, 2, 3, 4],\n",
        "       [12,13,14,5], \n",
        "       [11,16,15,6],\n",
        "       [10,9, 8, 7]]\n",
        "# Output should be [1, 2, 3, 4, 5,..., 12, 13, 14, 15, 16]"
      ],
      "execution_count": 9,
      "outputs": []
    },
    {
      "cell_type": "code",
      "metadata": {
        "id": "yvpfKQ6oV9fa"
      },
      "source": [
        "def spiral(arr):\n",
        "    while arr: # Is false when arr becomes empty\n",
        "        yield arr.pop(0)\n",
        "        if arr: # Perform below step only if array not empty\n",
        "            arr = np.rot90(arr).tolist() # Rotates 90 degree anti-clockwise\n",
        "            \n",
        "        # Rotate without using numpy\n",
        "        # arr = list(reversed(list(zip(*arr))))"
      ],
      "execution_count": 10,
      "outputs": []
    },
    {
      "cell_type": "markdown",
      "metadata": {
        "id": "ra92_OFgX2NG"
      },
      "source": [
        "#OR"
      ]
    },
    {
      "cell_type": "code",
      "metadata": {
        "id": "Xp7VZwDPX4bf"
      },
      "source": [
        "def spiral_2(arr):\n",
        "    n_arr = np.array(arr)\n",
        "    while n_arr.size:\n",
        "        yield n_arr[0].tolist()\n",
        "        n_arr = n_arr[1:].T[::-1] # Transpose and reverse"
      ],
      "execution_count": 11,
      "outputs": []
    },
    {
      "cell_type": "code",
      "metadata": {
        "colab": {
          "base_uri": "https://localhost:8080/"
        },
        "id": "aFWf5GlfWYb4",
        "outputId": "a8a3220a-2af5-4411-d809-d3541502e451"
      },
      "source": [
        "a = spiral(arr)\n",
        "print(list(itertools.chain(*list(a))))"
      ],
      "execution_count": 12,
      "outputs": [
        {
          "output_type": "stream",
          "text": [
            "[1, 2, 3, 4, 5, 6, 7, 8, 9, 10, 11, 12, 13, 14, 15, 16]\n"
          ],
          "name": "stdout"
        }
      ]
    },
    {
      "cell_type": "code",
      "metadata": {
        "colab": {
          "base_uri": "https://localhost:8080/"
        },
        "id": "a9YZDLRXWZYX",
        "outputId": "0a0e1ad9-1c84-4f6a-a255-84d9dc42d273"
      },
      "source": [
        "arr = [[1, 2, 3, 4],\n",
        "       [12,13,14,5],\n",
        "       [11,16,15,6],\n",
        "       [10,9, 8, 7]]\n",
        "\n",
        "print(*list(itertools.chain(*list(spiral_2(arr)))))"
      ],
      "execution_count": 13,
      "outputs": [
        {
          "output_type": "stream",
          "text": [
            "1 2 3 4 5 6 7 8 9 10 11 12 13 14 15 16\n"
          ],
          "name": "stdout"
        }
      ]
    },
    {
      "cell_type": "code",
      "metadata": {
        "id": "PymBpcrfYidh"
      },
      "source": [
        ""
      ],
      "execution_count": 13,
      "outputs": []
    }
  ]
}