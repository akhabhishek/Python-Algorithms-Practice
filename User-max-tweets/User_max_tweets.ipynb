{
  "nbformat": 4,
  "nbformat_minor": 0,
  "metadata": {
    "colab": {
      "name": "User_max_tweets.ipynb",
      "provenance": [],
      "authorship_tag": "ABX9TyOqZHFEF126wge7V2Ez21QH",
      "include_colab_link": true
    },
    "kernelspec": {
      "name": "python3",
      "display_name": "Python 3"
    }
  },
  "cells": [
    {
      "cell_type": "markdown",
      "metadata": {
        "id": "view-in-github",
        "colab_type": "text"
      },
      "source": [
        "<a href=\"https://colab.research.google.com/github/akhabhishek/Python-Algorithms-Practice/blob/main/User_max_tweets.ipynb\" target=\"_parent\"><img src=\"https://colab.research.google.com/assets/colab-badge.svg\" alt=\"Open In Colab\"/></a>"
      ]
    },
    {
      "cell_type": "code",
      "metadata": {
        "id": "ok9V_pj7OsGM"
      },
      "source": [
        "def count_tweet(n_testcases):\n",
        "\n",
        "    final_output = []\n",
        "\n",
        "    for i in range(n_testcases):\n",
        "        # Read number of tweets for each test case\n",
        "        n_tweets = int(input(\"Please enter the number of tweets for test case {}: \".format(i+1)))\n",
        "\n",
        "        print(\"Please enter {} tweets one after the other: \".format(n_tweets))\n",
        "\n",
        "        # Capture the tweets in a set to ignore any repeated inputs\n",
        "        unique_tweets = set()\n",
        "\n",
        "        # Reading n_tweets\n",
        "        for i in range(n_tweets):\n",
        "            unique_tweets.add(input())\n",
        "\n",
        "        tweet_count = {}\n",
        "\n",
        "        # If user exists in dictionary, add 1 count; if not, create user key and add 1 count\n",
        "        for item in unique_tweets:\n",
        "            if item.split()[0] in tweet_count:\n",
        "                tweet_count[item.split()[0]] += 1\n",
        "            else:\n",
        "                tweet_count[item.split()[0]] = 1\n",
        "\n",
        "        # Find the maximum number of tweets among the users\n",
        "        max_tweets = max(tweet_count.values())\n",
        "\n",
        "        max_tweets_user = []\n",
        "\n",
        "        # For each user, if the tweet count matches the maximum value, add to users' list\n",
        "        for key in tweet_count:\n",
        "            if tweet_count[key] == max_tweets:\n",
        "                max_tweets_user.append(key)\n",
        "\n",
        "        # Sorts the users' list alphabetically\n",
        "        max_tweets_user.sort()\n",
        "\n",
        "        for user in max_tweets_user:\n",
        "            final_output.append((user, tweet_count[user]))\n",
        "\n",
        "    return final_output\n",
        "\n",
        "if __name__ == \"__main__\":\n",
        "\n",
        "    # Read the number of test cases\n",
        "    no_of_testcases = int(input(\"Please enter the number of test cases: \"))\n",
        "\n",
        "    output = count_tweet(no_of_testcases)\n",
        "\n",
        "    print(\"\\n### Output ###\")\n",
        "    for o in output:\n",
        "        print(*o)\n"
      ],
      "execution_count": null,
      "outputs": []
    }
  ]
}
