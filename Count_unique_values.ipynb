{
  "nbformat": 4,
  "nbformat_minor": 0,
  "metadata": {
    "colab": {
      "name": "Count_unique_values.ipynb",
      "provenance": [],
      "collapsed_sections": [],
      "authorship_tag": "ABX9TyMnvxsPTzPmijfFJADioZGO",
      "include_colab_link": true
    },
    "kernelspec": {
      "name": "python3",
      "display_name": "Python 3"
    }
  },
  "cells": [
    {
      "cell_type": "markdown",
      "metadata": {
        "id": "view-in-github",
        "colab_type": "text"
      },
      "source": [
        "<a href=\"https://colab.research.google.com/github/akhabhishek/Python-Algorithms-Practice/blob/main/Count_unique_values.ipynb\" target=\"_parent\"><img src=\"https://colab.research.google.com/assets/colab-badge.svg\" alt=\"Open In Colab\"/></a>"
      ]
    },
    {
      "cell_type": "code",
      "metadata": {
        "id": "qVPCyH6TLdR8"
      },
      "source": [
        "def count_unique_values(arr):\r\n",
        "\r\n",
        "    \"\"\"\r\n",
        "    Count the number of unique values in a sorted array.\r\n",
        "    \"\"\"\r\n",
        "\r\n",
        "    # Return 0 if array is empty\r\n",
        "    if len(arr) == 0:\r\n",
        "        return 0\r\n",
        "\r\n",
        "    # Sort the array\r\n",
        "    arr.sort()\r\n",
        "\r\n",
        "    # Loop through array with two pointers i and j\r\n",
        "    # i will point to first value, j will point to next value; check if arr[i] equals arr[j]\r\n",
        "    # j will move ahead as long as values are same at i and j\r\n",
        "    # when value at j changes, i will move 1 position ahead and assign the value at j\r\n",
        "    \r\n",
        "    i = 0;\r\n",
        "\r\n",
        "    for j in range(1, len(arr)):\r\n",
        "        if arr[i] != arr[j]:\r\n",
        "            i += 1\r\n",
        "            arr[i] = arr[j]\r\n",
        "\r\n",
        "    # Return position of i + 1. This will be the count of unique values.\r\n",
        "    return i+1\r\n",
        "\r\n",
        "\r\n",
        "result = count_unique_values([1, 1, 1, 2, 2, 3, 4])\r\n"
      ],
      "execution_count": 1,
      "outputs": []
    },
    {
      "cell_type": "code",
      "metadata": {
        "colab": {
          "base_uri": "https://localhost:8080/"
        },
        "id": "k5rzm714MFD_",
        "outputId": "8bce9ddc-aa0b-4255-9e31-a788b23e98a6"
      },
      "source": [
        "print(\"Number of unique values: {}\".format(result))\r\n",
        "\r\n",
        "print(count_unique_values([1,1,2,3,4,4,5]))\r\n",
        "print(count_unique_values([1,2,3]))\r\n",
        "print(count_unique_values([]))"
      ],
      "execution_count": 2,
      "outputs": [
        {
          "output_type": "stream",
          "text": [
            "Number of unique values: 4\n",
            "5\n",
            "3\n",
            "0\n"
          ],
          "name": "stdout"
        }
      ]
    },
    {
      "cell_type": "code",
      "metadata": {
        "id": "6RoZRcpUMFiP"
      },
      "source": [
        ""
      ],
      "execution_count": null,
      "outputs": []
    }
  ]
}