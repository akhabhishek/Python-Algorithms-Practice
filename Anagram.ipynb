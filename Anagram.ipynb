{
  "nbformat": 4,
  "nbformat_minor": 0,
  "metadata": {
    "colab": {
      "name": "Anagram.ipynb",
      "provenance": [],
      "authorship_tag": "ABX9TyNWMdfY7nb1vqM+8sIpPlIn",
      "include_colab_link": true
    },
    "kernelspec": {
      "name": "python3",
      "display_name": "Python 3"
    }
  },
  "cells": [
    {
      "cell_type": "markdown",
      "metadata": {
        "id": "view-in-github",
        "colab_type": "text"
      },
      "source": [
        "<a href=\"https://colab.research.google.com/github/akhabhishek/Python-Algorithms-Practice/blob/main/Anagram.ipynb\" target=\"_parent\"><img src=\"https://colab.research.google.com/assets/colab-badge.svg\" alt=\"Open In Colab\"/></a>"
      ]
    },
    {
      "cell_type": "code",
      "metadata": {
        "id": "hsf-E2kl6tCK"
      },
      "source": [
        "def valid_anagram(str1, str2):\r\n",
        "    \"\"\"\r\n",
        "    This function checks if the string str2 is an anagram of string str1.\r\n",
        "    An anagram is a word or phrase formed by rearranging the letters of another string.\r\n",
        "\r\n",
        "    eg: (cinema, iceman) -> True\r\n",
        "    (rat,car) -> False\r\n",
        "    (anagram, nagaram) -> True\r\n",
        "    \"\"\"\r\n",
        "\r\n",
        "    # Ignoring whitespace around strings\r\n",
        "    str1 = str1.strip()\r\n",
        "    str2 = str2.strip()\r\n",
        "\r\n",
        "    if len(str1) != len(str2):\r\n",
        "        return False\r\n",
        "\r\n",
        "    if str1 == str2 == '':\r\n",
        "        return True\r\n",
        "\r\n",
        "    # Initialize a dictionary\r\n",
        "    letters = {}\r\n",
        "\r\n",
        "    # For each letter in str1, add it to a dictionary with value as 1;\r\n",
        "    # if letter already present in dictionary, increment the value by 1\r\n",
        "    for letter in str1:\r\n",
        "        if letter in letters:\r\n",
        "            letters[letter] += 1\r\n",
        "        else:\r\n",
        "            letters[letter] = 1\r\n",
        "\r\n",
        "    # For each letter in str2, if letter in dictionary, decrement by 1\r\n",
        "    # else, return False. Finally, all values in dictionary must be 0 for True.\r\n",
        "    for letter in str2:\r\n",
        "        if letter in letters:\r\n",
        "            letters[letter] -= 1\r\n",
        "        else:\r\n",
        "            return False\r\n",
        "\r\n",
        "    if sum(letters.values()) != 0:\r\n",
        "        return False\r\n",
        "\r\n",
        "    return True\r\n"
      ],
      "execution_count": 1,
      "outputs": []
    },
    {
      "cell_type": "code",
      "metadata": {
        "colab": {
          "base_uri": "https://localhost:8080/"
        },
        "id": "ktaVU7717VH2",
        "outputId": "cdcf14e8-932d-44e3-9561-44921b8a3030"
      },
      "source": [
        "print(valid_anagram('',''))\r\n",
        "print(valid_anagram('cinema', ' iceman'))\r\n",
        "print(valid_anagram('rat', 'car'))\r\n",
        "print(valid_anagram('anagram', 'nagaram'))\r\n"
      ],
      "execution_count": 2,
      "outputs": [
        {
          "output_type": "stream",
          "text": [
            "True\n",
            "True\n",
            "False\n",
            "True\n"
          ],
          "name": "stdout"
        }
      ]
    },
    {
      "cell_type": "code",
      "metadata": {
        "id": "_X-yAE3c7Vi8"
      },
      "source": [
        ""
      ],
      "execution_count": null,
      "outputs": []
    }
  ]
}