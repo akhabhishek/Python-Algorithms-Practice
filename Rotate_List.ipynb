{
  "nbformat": 4,
  "nbformat_minor": 0,
  "metadata": {
    "colab": {
      "name": "Rotate_List.ipynb",
      "provenance": [],
      "authorship_tag": "ABX9TyPE5GIhrK4sJtlUXYyFWMTV",
      "include_colab_link": true
    },
    "kernelspec": {
      "name": "python3",
      "display_name": "Python 3"
    }
  },
  "cells": [
    {
      "cell_type": "markdown",
      "metadata": {
        "id": "view-in-github",
        "colab_type": "text"
      },
      "source": [
        "<a href=\"https://colab.research.google.com/github/akhabhishek/Python-Algorithms-Practice/blob/main/Rotate_List.ipynb\" target=\"_parent\"><img src=\"https://colab.research.google.com/assets/colab-badge.svg\" alt=\"Open In Colab\"/></a>"
      ]
    },
    {
      "cell_type": "code",
      "metadata": {
        "id": "O24kR7ALm-UO"
      },
      "source": [
        "def rotate_list(arr, k):\r\n",
        "    \"\"\"\r\n",
        "    This function rotates the array arr by k steps to right\r\n",
        "    \"\"\"\r\n",
        "    n = len(arr)\r\n",
        "\r\n",
        "    k = k % n\r\n",
        "\r\n",
        "    arr = arr[-k:] + arr[:-k]\r\n",
        "\r\n",
        "    return arr"
      ],
      "execution_count": 1,
      "outputs": []
    },
    {
      "cell_type": "markdown",
      "metadata": {
        "id": "_aaR38QepPPE"
      },
      "source": [
        "In above function, (k = k % n) is an important step.\r\n",
        "If the steps of rotations (k) is greater than length of array (n) itself, then we just need to rotate (k % n) times.\r\n",
        "\r\n",
        "**Example**  \r\n",
        "\r\n",
        "\r\n",
        "```\r\n",
        "arr = [1, 2, 3]  \r\n",
        "1st rotation: [3, 1, 2]\r\n",
        "2nd rotation: [2, 3, 1]  \r\n",
        "3rd rotation: [1, 2, 3]  \r\n",
        "4th rotation: [3, 1, 2]\r\n",
        "```\r\n",
        "Notice that the list returns to original form after (n) rotations. So, for (k = 4), we just need to rotate once. (k % n) = (4 % 3) = 1"
      ]
    },
    {
      "cell_type": "code",
      "metadata": {
        "colab": {
          "base_uri": "https://localhost:8080/"
        },
        "id": "pT-MY3IGpOuy",
        "outputId": "f4cb4fa7-9bc6-4e38-d70c-3ef56bd31789"
      },
      "source": [
        "arr = [1,2,3,4,5,6,7,8]\r\n",
        "rotate_list(arr, 3)"
      ],
      "execution_count": 2,
      "outputs": [
        {
          "output_type": "execute_result",
          "data": {
            "text/plain": [
              "[6, 7, 8, 1, 2, 3, 4, 5]"
            ]
          },
          "metadata": {
            "tags": []
          },
          "execution_count": 2
        }
      ]
    },
    {
      "cell_type": "code",
      "metadata": {
        "id": "tAWnrDmarqyt"
      },
      "source": [
        ""
      ],
      "execution_count": null,
      "outputs": []
    }
  ]
}