{
  "nbformat": 4,
  "nbformat_minor": 0,
  "metadata": {
    "colab": {
      "name": "Digit_square_sum.ipynb",
      "provenance": [],
      "authorship_tag": "ABX9TyPm8+M4ILLZnpCgKFVCCOdx",
      "include_colab_link": true
    },
    "kernelspec": {
      "name": "python3",
      "display_name": "Python 3"
    }
  },
  "cells": [
    {
      "cell_type": "markdown",
      "metadata": {
        "id": "view-in-github",
        "colab_type": "text"
      },
      "source": [
        "<a href=\"https://colab.research.google.com/github/akhabhishek/Python-Algorithms-Practice/blob/main/Digit_square_sum.ipynb\" target=\"_parent\"><img src=\"https://colab.research.google.com/assets/colab-badge.svg\" alt=\"Open In Colab\"/></a>"
      ]
    },
    {
      "cell_type": "markdown",
      "metadata": {
        "id": "69vmwtyZ9sIB"
      },
      "source": [
        "**Problem**  \r\n",
        "Find the sum of squares of digits of a given number.  \r\n",
        "If the sum is 1, function should return True; if it is 2-9 it should return False and if the sum is more than 1 digit, repeat the same until sum becomes single digit.\r\n",
        "\r\n",
        "Sample input  \r\n",
        "19  \r\n",
        "Sample output  \r\n",
        "True  \r\n",
        "**Explanation**  \r\n",
        "1^2 + 9^2 = 82  \r\n",
        "8^2 + 2^2 = 68  \r\n",
        "6^2 + 8^2 = 100  \r\n",
        "1^2 + 0^2 + 0^2 = 1"
      ]
    },
    {
      "cell_type": "code",
      "metadata": {
        "id": "D4XxJi639r08"
      },
      "source": [
        "def digit_sq_sum(num):\r\n",
        "\r\n",
        "    # Helper function to sum the squares of numbers and add them. Returns sum.\r\n",
        "    def sq_sum(num):\r\n",
        "        sum = 0\r\n",
        "        digit = 0\r\n",
        "        while(num > 0):\r\n",
        "            digit = num % 10\r\n",
        "            sum += (digit**2)\r\n",
        "            num = num//10\r\n",
        "\r\n",
        "        return sum\r\n",
        "\r\n",
        "    # Calling the helper function on initial num value\r\n",
        "    result = sq_sum(num)\r\n",
        "\r\n",
        "    # Converting the result to str and checking its length.\r\n",
        "    # If there are more than 1 digit, call helper function again on the result.\r\n",
        "    while len(str(result)) > 1:\r\n",
        "        result = sq_sum(result)\r\n",
        "\r\n",
        "    if result == 1:\r\n",
        "        return True\r\n",
        "    else:\r\n",
        "        return False"
      ],
      "execution_count": 1,
      "outputs": []
    },
    {
      "cell_type": "code",
      "metadata": {
        "colab": {
          "base_uri": "https://localhost:8080/"
        },
        "id": "85u-qOB_-YYv",
        "outputId": "b25ea74d-97cc-4593-af94-05476b590963"
      },
      "source": [
        "print(digit_sq_sum(200))\r\n",
        "print(digit_sq_sum(19))"
      ],
      "execution_count": 2,
      "outputs": [
        {
          "output_type": "stream",
          "text": [
            "False\n",
            "True\n"
          ],
          "name": "stdout"
        }
      ]
    },
    {
      "cell_type": "code",
      "metadata": {
        "id": "eeytHP8X-YRS"
      },
      "source": [
        ""
      ],
      "execution_count": null,
      "outputs": []
    },
    {
      "cell_type": "markdown",
      "metadata": {
        "id": "3ehjKa9u9oq0"
      },
      "source": [
        "# Using recursion"
      ]
    },
    {
      "cell_type": "code",
      "metadata": {
        "id": "AVVDEn2e9eUM"
      },
      "source": [
        "def digit_sq_sum2(num):\r\n",
        "\r\n",
        "    sum = 0\r\n",
        "    digit = 0\r\n",
        "    while(num > 0):\r\n",
        "        digit = num % 10\r\n",
        "        sum += (digit**2)\r\n",
        "        num = num//10\r\n",
        "\r\n",
        "    if sum == 1:\r\n",
        "        return True\r\n",
        "    elif sum>1 and sum<=9:\r\n",
        "        return False\r\n",
        "    else:\r\n",
        "        output = digit_sq_sum2(sum)\r\n",
        "\r\n",
        "    return output"
      ],
      "execution_count": 3,
      "outputs": []
    },
    {
      "cell_type": "code",
      "metadata": {
        "colab": {
          "base_uri": "https://localhost:8080/"
        },
        "id": "TSdmqOal-dEO",
        "outputId": "c1435e74-2760-4f82-eeac-5e5a2f7da8c3"
      },
      "source": [
        "print(digit_sq_sum2(200))\r\n",
        "print(digit_sq_sum2(19))"
      ],
      "execution_count": 4,
      "outputs": [
        {
          "output_type": "stream",
          "text": [
            "False\n",
            "True\n"
          ],
          "name": "stdout"
        }
      ]
    },
    {
      "cell_type": "code",
      "metadata": {
        "id": "sOo0K20w-d7B"
      },
      "source": [
        ""
      ],
      "execution_count": null,
      "outputs": []
    }
  ]
}