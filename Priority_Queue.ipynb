{
  "nbformat": 4,
  "nbformat_minor": 0,
  "metadata": {
    "colab": {
      "name": "Priority_Queue.ipynb",
      "provenance": [],
      "collapsed_sections": [],
      "authorship_tag": "ABX9TyM4UCiWQPBwr+2MA2jyJ0PI",
      "include_colab_link": true
    },
    "kernelspec": {
      "name": "python3",
      "display_name": "Python 3"
    }
  },
  "cells": [
    {
      "cell_type": "markdown",
      "metadata": {
        "id": "view-in-github",
        "colab_type": "text"
      },
      "source": [
        "<a href=\"https://colab.research.google.com/github/akhabhishek/Python-Algorithms-Practice/blob/main/Priority_Queue.ipynb\" target=\"_parent\"><img src=\"https://colab.research.google.com/assets/colab-badge.svg\" alt=\"Open In Colab\"/></a>"
      ]
    },
    {
      "cell_type": "markdown",
      "metadata": {
        "id": "iDQwgvBDMyQf"
      },
      "source": [
        "## **Priority queues** are an abstract concept that can be implemented in different ways (using lists, heaps etc.) but the best way to implement them is using **Binary heaps**.\r\n",
        "\r\n",
        "- Each element in a priority queue has a priority level associated with it\r\n",
        "- The element with the highest priority is attended to before an element with lower priority\r\n",
        "\r\n",
        "### Here, we use **Min Binary Heap** to implement a priority queue (lower number -> higher priority).\r\n",
        "- The code for priority queue is very similar to the code of Binary heap, with slight modifications\r\n",
        "- Create a 'Node' class which will have 'value' and 'priority' as its attributes; each node will be an element of the priority queue\r\n",
        "- Then, we create a 'PriorityQueue' class that initializes a list to hold the elements\r\n",
        "- **Enqueue** method accepts a value and a priority, makes a new Node and puts it in the right spot based on priority\r\n",
        "- **Dequeue** method removes root element and returns it, and rearranges heap using priority\r\n"
      ]
    },
    {
      "cell_type": "markdown",
      "metadata": {
        "id": "UieYDSlWUUnE"
      },
      "source": [
        "  \r\n",
        "We have Max Binary Heap code in below link. Make necessary changes for min binary heap.  \r\n",
        "https://github.com/akhabhishek/Python-Algorithms-Practice/blob/main/Binary_Heap.ipynb"
      ]
    },
    {
      "cell_type": "code",
      "metadata": {
        "id": "7uXK1P1oZg_M"
      },
      "source": [
        ""
      ],
      "execution_count": null,
      "outputs": []
    },
    {
      "cell_type": "code",
      "metadata": {
        "id": "sm9f00_GZZPe"
      },
      "source": [
        "class Node:\r\n",
        "    def __init__(self, value, priority):\r\n",
        "        self.value = value\r\n",
        "        self.priority = priority"
      ],
      "execution_count": 2,
      "outputs": []
    },
    {
      "cell_type": "code",
      "metadata": {
        "id": "b50EsuOpZZJO"
      },
      "source": [
        "class PriorityQueue:\r\n",
        "    def __init__(self):\r\n",
        "        self.values= []\r\n",
        "    \r\n",
        "    def get_values(self):\r\n",
        "        return [(item.value, item.priority) for item in pq.values]\r\n",
        "    \r\n",
        "    def enqueue(self, value, priority):\r\n",
        "\r\n",
        "        # Create a new node and add at end of array\r\n",
        "        new_node = Node(value, priority)\r\n",
        "        self.values.append(new_node)\r\n",
        "\r\n",
        "        if len(self.values) == 1:\r\n",
        "            return [(item.value, item.priority) for item in self.values]\r\n",
        "\r\n",
        "        # Set the index of the new value\r\n",
        "        new_node_idx = len(self.values) - 1\r\n",
        "\r\n",
        "        while new_node_idx > 0:\r\n",
        "\r\n",
        "            # FInd parent index for current index of new node\r\n",
        "            parent_idx = (new_node_idx - 1) // 2\r\n",
        "            \r\n",
        "            # If priority number of new node is lesser than parent, swap (Remember: Lower priority number means higher priority)\r\n",
        "            if new_node.priority < self.values[parent_idx].priority:\r\n",
        "                \r\n",
        "                # Swap\r\n",
        "                self.values[new_node_idx] = self.values[parent_idx]\r\n",
        "                self.values[parent_idx] = new_node\r\n",
        "\r\n",
        "                # If swapped, update  the index of new value to its new position\r\n",
        "                new_node_idx = parent_idx\r\n",
        "\r\n",
        "            else:\r\n",
        "                return [(item.value, item.priority) for item in self.values]\r\n",
        "            \r\n",
        "        \r\n",
        "        return [(item.value, item.priority) for item in self.values]\r\n",
        "     \r\n",
        "    def dequeue(self):\r\n",
        "\r\n",
        "        # Exit if no nodes in priority queue or return value if only 1 node\r\n",
        "        if len(self.values) == 0:\r\n",
        "            return \"No items in priority queue!\"\r\n",
        "        elif len(self.values) == 1:\r\n",
        "            max_priority_item = self.values.pop()\r\n",
        "            return (max_priority_item.value, max_priority_item.priority)\r\n",
        "        \r\n",
        "        # Set the root item of priority queue to a variable\r\n",
        "        max_priority_item = self.values[0]\r\n",
        "\r\n",
        "        # Pop the last element from list and assign it to the place of root node (0 index)\r\n",
        "        self.values[0] = self.values.pop()\r\n",
        "\r\n",
        "        parent_idx = 0\r\n",
        "        parent = self.values[parent_idx]\r\n",
        "        \r\n",
        "        while True:\r\n",
        "\r\n",
        "            left_child_idx = (2 * parent_idx) + 1\r\n",
        "            right_child_idx = (2 * parent_idx) + 2\r\n",
        "            left_child = right_child = None\r\n",
        "            swap_idx = None\r\n",
        "\r\n",
        "            # Set left_child if its index is not out of range\r\n",
        "            if left_child_idx < len(self.values):\r\n",
        "                left_child = self.values[left_child_idx]\r\n",
        "\r\n",
        "                # If left_child > parent, we need to swap parent with left_child (this can change after checking right_child)\r\n",
        "                if left_child.priority < parent.priority:\r\n",
        "                    swap_idx = left_child_idx\r\n",
        "            \r\n",
        "            # Set right_child if its index is not out of range\r\n",
        "            if right_child_idx < len(self.values):\r\n",
        "                right_child = self.values[right_child_idx]\r\n",
        "\r\n",
        "                # If right_child priority < left_child and parent priority, we will swap parent with right_child\r\n",
        "                if (right_child.priority < left_child.priority) and (right_child.priority < parent.priority):\r\n",
        "                    swap_idx = right_child_idx\r\n",
        "\r\n",
        "            # swap_idx will not be updated if left and right child indices are out of range\r\n",
        "            if swap_idx == None:\r\n",
        "                break\r\n",
        "\r\n",
        "            self.values[parent_idx] = self.values[swap_idx]\r\n",
        "            self.values[swap_idx] = parent\r\n",
        "\r\n",
        "            parent_idx = swap_idx\r\n",
        "        \r\n",
        "        return (max_priority_item.value, max_priority_item.priority)"
      ],
      "execution_count": 53,
      "outputs": []
    },
    {
      "cell_type": "code",
      "metadata": {
        "id": "K3zriD7vZZCi"
      },
      "source": [
        ""
      ],
      "execution_count": 53,
      "outputs": []
    },
    {
      "cell_type": "code",
      "metadata": {
        "id": "b4i41rehwQvO"
      },
      "source": [
        "pq = PriorityQueue()"
      ],
      "execution_count": 54,
      "outputs": []
    },
    {
      "cell_type": "code",
      "metadata": {
        "id": "hrUPVcQYAZbZ",
        "colab": {
          "base_uri": "https://localhost:8080/"
        },
        "outputId": "0c3e3d58-66e7-4aea-c3bd-3b2cd74b52d8"
      },
      "source": [
        "pq.get_values()"
      ],
      "execution_count": 69,
      "outputs": [
        {
          "output_type": "execute_result",
          "data": {
            "text/plain": [
              "[]"
            ]
          },
          "metadata": {
            "tags": []
          },
          "execution_count": 69
        }
      ]
    },
    {
      "cell_type": "code",
      "metadata": {
        "colab": {
          "base_uri": "https://localhost:8080/"
        },
        "id": "iUzaqwoudpCo",
        "outputId": "c9dce11c-f689-4080-f3be-0a6e9a4339c9"
      },
      "source": [
        "pq.enqueue(\"Flu\",3)"
      ],
      "execution_count": 56,
      "outputs": [
        {
          "output_type": "execute_result",
          "data": {
            "text/plain": [
              "[('Flu', 3)]"
            ]
          },
          "metadata": {
            "tags": []
          },
          "execution_count": 56
        }
      ]
    },
    {
      "cell_type": "code",
      "metadata": {
        "colab": {
          "base_uri": "https://localhost:8080/"
        },
        "id": "trwY9xLRduqt",
        "outputId": "833d1f21-83cd-495c-8d14-08d62fe181da"
      },
      "source": [
        "pq.enqueue(\"Fracture\", 2)"
      ],
      "execution_count": 57,
      "outputs": [
        {
          "output_type": "execute_result",
          "data": {
            "text/plain": [
              "[('Fracture', 2), ('Flu', 3)]"
            ]
          },
          "metadata": {
            "tags": []
          },
          "execution_count": 57
        }
      ]
    },
    {
      "cell_type": "code",
      "metadata": {
        "colab": {
          "base_uri": "https://localhost:8080/"
        },
        "id": "pAhBBSgseWAY",
        "outputId": "d8bf331f-8284-4d3e-e564-d62b0840ff0b"
      },
      "source": [
        "pq.enqueue(\"Accident\", 1)"
      ],
      "execution_count": 58,
      "outputs": [
        {
          "output_type": "execute_result",
          "data": {
            "text/plain": [
              "[('Accident', 1), ('Flu', 3), ('Fracture', 2)]"
            ]
          },
          "metadata": {
            "tags": []
          },
          "execution_count": 58
        }
      ]
    },
    {
      "cell_type": "code",
      "metadata": {
        "colab": {
          "base_uri": "https://localhost:8080/"
        },
        "id": "DTOFvEO4e5La",
        "outputId": "7db4e3a4-2162-4366-f2f8-530723b04375"
      },
      "source": [
        "pq.enqueue(\"Health check-up\", 4)"
      ],
      "execution_count": 59,
      "outputs": [
        {
          "output_type": "execute_result",
          "data": {
            "text/plain": [
              "[('Accident', 1), ('Flu', 3), ('Fracture', 2), ('Health check-up', 4)]"
            ]
          },
          "metadata": {
            "tags": []
          },
          "execution_count": 59
        }
      ]
    },
    {
      "cell_type": "code",
      "metadata": {
        "colab": {
          "base_uri": "https://localhost:8080/"
        },
        "id": "u_rnKv7UfuNN",
        "outputId": "be6b0970-50c8-49d6-c417-5c41beb2d84b"
      },
      "source": [
        "pq.enqueue(\"Report follow-up\", 4)"
      ],
      "execution_count": 60,
      "outputs": [
        {
          "output_type": "execute_result",
          "data": {
            "text/plain": [
              "[('Accident', 1),\n",
              " ('Flu', 3),\n",
              " ('Fracture', 2),\n",
              " ('Health check-up', 4),\n",
              " ('Report follow-up', 4)]"
            ]
          },
          "metadata": {
            "tags": []
          },
          "execution_count": 60
        }
      ]
    },
    {
      "cell_type": "code",
      "metadata": {
        "colab": {
          "base_uri": "https://localhost:8080/"
        },
        "id": "2IZ3yrJwgBFK",
        "outputId": "e9ca3c9d-50f6-4dca-d1bb-7cf73b58dd82"
      },
      "source": [
        "pq.dequeue()"
      ],
      "execution_count": 61,
      "outputs": [
        {
          "output_type": "execute_result",
          "data": {
            "text/plain": [
              "('Accident', 1)"
            ]
          },
          "metadata": {
            "tags": []
          },
          "execution_count": 61
        }
      ]
    },
    {
      "cell_type": "code",
      "metadata": {
        "colab": {
          "base_uri": "https://localhost:8080/"
        },
        "id": "POgGPYj-hhXV",
        "outputId": "6078ad59-f09f-4a67-927e-664d369047e7"
      },
      "source": [
        "pq.get_values()"
      ],
      "execution_count": 62,
      "outputs": [
        {
          "output_type": "execute_result",
          "data": {
            "text/plain": [
              "[('Fracture', 2), ('Flu', 3), ('Report follow-up', 4), ('Health check-up', 4)]"
            ]
          },
          "metadata": {
            "tags": []
          },
          "execution_count": 62
        }
      ]
    },
    {
      "cell_type": "code",
      "metadata": {
        "colab": {
          "base_uri": "https://localhost:8080/"
        },
        "id": "aiz2fSaWgURV",
        "outputId": "5c8f354a-0a4b-45e3-9b07-b2108db3cf22"
      },
      "source": [
        "pq.dequeue()"
      ],
      "execution_count": 63,
      "outputs": [
        {
          "output_type": "execute_result",
          "data": {
            "text/plain": [
              "('Fracture', 2)"
            ]
          },
          "metadata": {
            "tags": []
          },
          "execution_count": 63
        }
      ]
    },
    {
      "cell_type": "code",
      "metadata": {
        "colab": {
          "base_uri": "https://localhost:8080/"
        },
        "id": "TA0gWBW6gmMS",
        "outputId": "90b26e9e-2481-4a51-f125-4831b7d79e92"
      },
      "source": [
        "pq.get_values()"
      ],
      "execution_count": 64,
      "outputs": [
        {
          "output_type": "execute_result",
          "data": {
            "text/plain": [
              "[('Flu', 3), ('Health check-up', 4), ('Report follow-up', 4)]"
            ]
          },
          "metadata": {
            "tags": []
          },
          "execution_count": 64
        }
      ]
    },
    {
      "cell_type": "code",
      "metadata": {
        "colab": {
          "base_uri": "https://localhost:8080/"
        },
        "id": "L8SJaSKBhnSk",
        "outputId": "6f16124a-8b8c-4ff6-889a-9a325accb6ab"
      },
      "source": [
        "pq.dequeue()"
      ],
      "execution_count": 65,
      "outputs": [
        {
          "output_type": "execute_result",
          "data": {
            "text/plain": [
              "('Flu', 3)"
            ]
          },
          "metadata": {
            "tags": []
          },
          "execution_count": 65
        }
      ]
    },
    {
      "cell_type": "code",
      "metadata": {
        "colab": {
          "base_uri": "https://localhost:8080/"
        },
        "id": "SHhLfpmRhpIO",
        "outputId": "bf27a575-4311-43b8-97ab-967ac931b5f6"
      },
      "source": [
        "pq.dequeue()"
      ],
      "execution_count": 66,
      "outputs": [
        {
          "output_type": "execute_result",
          "data": {
            "text/plain": [
              "('Report follow-up', 4)"
            ]
          },
          "metadata": {
            "tags": []
          },
          "execution_count": 66
        }
      ]
    },
    {
      "cell_type": "code",
      "metadata": {
        "colab": {
          "base_uri": "https://localhost:8080/"
        },
        "id": "TydJpnOUht2c",
        "outputId": "3ff6a1e0-ab81-4280-8958-1e47e18d56b1"
      },
      "source": [
        "pq.dequeue()"
      ],
      "execution_count": 67,
      "outputs": [
        {
          "output_type": "execute_result",
          "data": {
            "text/plain": [
              "('Health check-up', 4)"
            ]
          },
          "metadata": {
            "tags": []
          },
          "execution_count": 67
        }
      ]
    },
    {
      "cell_type": "code",
      "metadata": {
        "colab": {
          "base_uri": "https://localhost:8080/",
          "height": 35
        },
        "id": "8UJ27TIjhvD1",
        "outputId": "21a34d09-8179-4954-be7c-61c54c6dcb6e"
      },
      "source": [
        "pq.dequeue()"
      ],
      "execution_count": 68,
      "outputs": [
        {
          "output_type": "execute_result",
          "data": {
            "application/vnd.google.colaboratory.intrinsic+json": {
              "type": "string"
            },
            "text/plain": [
              "'No items in priority queue!'"
            ]
          },
          "metadata": {
            "tags": []
          },
          "execution_count": 68
        }
      ]
    },
    {
      "cell_type": "code",
      "metadata": {
        "id": "GHzwV79YhwL5"
      },
      "source": [
        ""
      ],
      "execution_count": null,
      "outputs": []
    }
  ]
}